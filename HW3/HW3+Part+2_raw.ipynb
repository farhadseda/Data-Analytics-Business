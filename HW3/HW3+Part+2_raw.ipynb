{
    "cells": [
        {
            "cell_type": "markdown",
            "metadata": {
                "nbgrader": {
                    "grade": false,
                    "locked": true,
                    "solution": false
                },
                "editable": false,
                "deletable": false
            },
            "source": [
                "# HW3 Part 2 MGT 6203 "
            ]
        },
        {
            "cell_type": "markdown",
            "metadata": {
                "nbgrader": {
                    "grade": false,
                    "locked": true,
                    "solution": false
                },
                "editable": false,
                "deletable": false
            },
            "source": [
                "## Instructions:\n",
                "\n",
                "\n",
                "**For Homework 3 Part 2, please use this R notebook in Vocareum to submit your solutions. Vocareum is an educational cloud platform for programming in several languages; it is based on the Jupyter notebook environment. This platform allows us to move homework assignments to the cloud. The advantages are that all of you will be working in the same coding environment AND peer reviewers will be able to run your R code easily. This way we eliminate some issues we might encounter when working on an individual\/local basis, such as library installations and Rstudio OS requirements; R notebooks work on mobile platforms and tablets.**\n",
                "\n",
                "**With R notebooks, you will be learning a new way of presenting data analysis reports, that is neat and flexible, where formatted (English) text and (R) code can easily coexist on the same page. Notebooks can be also collaborative when needed. For now, we are asking each of you to do your own work for homework. Think of R notebooks as interactive program-based Google docs or MS-Office 360 docs; these are gradually replacing local files on our computers. **\n",
                "\n",
                "**Many of you are new to the R notebooks and Vocareum platforms. We will provide TA help in Piazza with specific code if you have questions. Here we list some important things to get you started. Please read through them carefully.**\n",
                "\n",
                "\n",
                "<ol>\n",
                "<li>Even though we are moving from your local envrionment to the cloud, **our expectations from your homework will remain the same**. Same goes for the rubrics.<\/li>\n",
                "\n",
                "<li>Vocareum has its own cloud based file system, the data files you will be using for the assignments will be stored in the cloud with path **\"..\/resource\/asnlib\/publicdata\/FILENAME.csv\"**. You will be able to import them with the same method as you do in RStudio, simply substitute the path name to the one specified in the instructions. You won't be able to modify these data files.<\/li>\n",
                "\n",
                "<li>You will be able to find the data files on Canvas\/EdX if you would like to explore them offline.<\/li>\n",
                "\n",
                "<li>**For coding questions, you will be graded on the R code as well as the output** in your submission.<\/li>\n",
                "\n",
                "<li>**For interpretations or short response questions, please type the answers in the notebook's markdown cells**. To change a code cell to a markdown cell, click on the cell, and in the dropdown menu above, switch the type of the cell block from \"code\" to \"markdown\". **Adding print statements to code cells for short response\/interpretation questions is also fine, as long as we can clearly see the output of your response**.<\/li>\n",
                "\n",
                "<li>You don't need to, but if you would like to learn more about how to format your markdown cells, visit the following site: https:\/\/www.earthdatascience.org\/courses\/intro-to-earth-data-science\/file-formats\/use-text-files\/format-text-with-markdown-jupyter-notebook\/. Jupyter notebook also support LaTeX.<\/li>\n",
                "\n",
                "<li>**Feel free to delete or add as many additional cells as you need**. But please try to keep your notebook clean and keep your solution to a question directly under that question to avoid confusions.<\/li>\n",
                "\n",
                "<li>You may delete the #SOLUTION BEGINS\/ENDS HERE comments from the cell blocks, they are just pointers that indicates where to put you solutions.<\/li>\n",
                "\n",
                "<li>**When you have finished the assignment, remember to rerun your notebook to check if it runs correctly.** You can do so by going to **Kernel-> Restart & Run All**. You may lose points if your solutions does not run successfully.<\/li>\n",
                "\n",
                "<li>**Click the \"Submit\" button on the top right corner to turn in your assignment**. Your assignment will enter the next phase for peer review.<\/li>\n",
                "\n",
                "<li>**You are allowed a total of 2 submissions for this assignment.** So make sure that you submit your responses carefully. You will be able to come back and resubmit your assignment as long as it is before the start of the peer review period.<\/li>\n",
                "\n",
                "<li>**Please remember to finish the peer reviews after you have submitted your assignment.** You are responsible for grading the work of three of your peers thoroughly, and in addherence to the rubrics. And you will be held accountable for peer grading. **There will be a 30% penalty to your grade if you fail to complete one or more peer reviews in proper fashion.**<\/li>\n",
                "\n",
                "<li>Feel free to address your questions, concerns, and provide any feedback on Piazza. We will continuously try to improve going forward.<\/li>\n",
                "\n",
                "<li>Good Luck!<\/li>\n",
                "\n",
                "<\/ol>\n",
                "\n"
            ]
        },
        {
            "cell_type": "markdown",
            "metadata": {
                "nbgrader": {
                    "grade": false,
                    "locked": true,
                    "solution": false
                },
                "editable": false,
                "deletable": false
            },
            "source": [
                "# About Package Installation:\n",
                "\n",
                "Most of the packages (if not all) that you will need to complete this assignment are already installed in this environment. An easy way to check this is to run the command: library(PackageName). If this command runs successfully then the package was already installed and has been successfully attached to the code. If the command gave an error saying the Package was not found then follow the steps below to successfully install the package and attach it to the code: \n",
                "\n",
                "Use *installed.packages()* command to return a table of the packages that are preinstalled in the environment.\n",
                "\n",
                "To attach a preinstalled library in Vocareum, simply use *library(PackageName)*\n",
                "\n",
                "**To install a package that does not come with the provided environment, please use the following syntax:**\n",
                "\n",
                "*install.packages(\"PackageName\", lib=\"..\/work\/\")*\n",
                "\n",
                "**To attach a library you just installed, use the following syntax:**\n",
                "\n",
                "*library(PackageName, lib.loc=\"..\/work\/\")*\n",
                "\n",
                "Make sure the file location is the same as the above code snippets *(\"..\/work\/\")*\n",
                "\n",
                "\n"
            ]
        },
        {
            "cell_type": "markdown",
            "metadata": {
                "nbgrader": {
                    "grade": false,
                    "locked": true,
                    "solution": false
                },
                "editable": false,
                "deletable": false
            },
            "source": [
                "## Instructions for Q1 to Q2:\n",
                "\n",
                "Please use the Facebook Ad dataset 'KAG.csv'  for the next set of questions. We advise solving these questions using R (preferably using dplyr library wherever applicable) after reviewing the code provided for Week 11 and other resources provided for learning dplyr in R Learning Guide.\n",
                "\n",
                "Load the dataset as below:\n",
                "\n",
                "data <- read.csv(\"..\/resource\/asnlib\/publicdata\/KAG.csv\", stringsAsFactors = FALSE)\n",
                "\n",
                "**IMPORTANT NOTE: For no clicks and no amount spent, please consider CPC as 0.**"
            ]
        },
        {
            "cell_type": "markdown",
            "metadata": {
                "nbgrader": {
                    "grade": false,
                    "locked": true,
                    "solution": false
                },
                "editable": false,
                "deletable": false
            },
            "source": [
                "### Q1. (8 Points)"
            ]
        },
        {
            "cell_type": "markdown",
            "metadata": {
                "nbgrader": {
                    "grade": false,
                    "locked": true,
                    "solution": false
                },
                "editable": false,
                "deletable": false
            },
            "source": [
                "#### a. Among the ads that have the least CPC, which one ad leads to the most impressions? (provide  ad_id as the answer) (4 Points)"
            ]
        },
        {
            "cell_type": "code",
            "execution_count": null,
            "metadata": {
                "collapsed": true
            },
            "outputs": [],
            "source": [
                "# SOLUTION BEGINS HERE\n",
                "\n",
                "\n",
                "# SOLUTION ENDS HERE"
            ]
        },
        {
            "cell_type": "markdown",
            "metadata": {
                "nbgrader": {
                    "grade": false,
                    "locked": true,
                    "solution": false
                },
                "editable": false,
                "deletable": false
            },
            "source": [
                "#### b. What campaign (provide campaign_id as the answer) had spent least efficiently on brand awareness on an average?  Group the ads by campaign, find the respective totals, and then calculate the CPM for each campaign. (4 Points)\n",
                "\n",
                "$i.e.\\: to\\: calculate\\: most\\: Cost\\: Per\\: Mille\\: or\\: CPM, use: \\frac{total\\: cost\\: for\\: the\\: campaign}{total\\: impressions\\: in\\: thousands}$"
            ]
        },
        {
            "cell_type": "code",
            "execution_count": null,
            "metadata": {
                "collapsed": true
            },
            "outputs": [],
            "source": [
                "# SOLUTION BEGINS HERE\n",
                "\n",
                "\n",
                "# SOLUTION ENDS HERE"
            ]
        },
        {
            "cell_type": "markdown",
            "metadata": {
                "nbgrader": {
                    "grade": false,
                    "locked": true,
                    "solution": false
                },
                "editable": false,
                "deletable": false
            },
            "source": [
                "### Q2. (8 Points)\n",
                "\n",
                "Assume each conversion ('Total_Conversion') is worth 10 dollars, each approved conversion (\u2018Approved_Conversion\u2019) is worth 50 dollars. ROAS (return on advertising spent) is revenue divided by advertising spent. Calculate ROAS and round it to two decimals. (Use 'Spent' as the Cost in the given ROAS formula)"
            ]
        },
        {
            "cell_type": "markdown",
            "metadata": {
                "nbgrader": {
                    "grade": false,
                    "locked": true,
                    "solution": false
                },
                "editable": false,
                "deletable": false
            },
            "source": [
                "$$Hint: ROAS = \\frac{Revenue}{Spent}=\\frac{10\\times Total Conversion+50\\times Approved Conversion}{Spent}$$"
            ]
        },
        {
            "cell_type": "markdown",
            "metadata": {
                "nbgrader": {
                    "grade": false,
                    "locked": true,
                    "solution": false
                },
                "editable": false,
                "deletable": false
            },
            "source": [
                "#### a. Make a boxplot of the ROAS grouped by gender for interest_id = 15, 21, 101 in one graph. Try to use the function '+ scale_y_log10()' in ggplot to make the visualization look better. The x-axis label should be 'Interest ID' while the y-axis label should be ROAS; and each interest_id will have two boxplots (one boxplot for each gender). (4 Points) \n",
                "Hint:  Remember to filter the advertisements where there is no advertising spent.  \n",
                "Hint:  ROAS should be rounded to the second decimal.  "
            ]
        },
        {
            "cell_type": "code",
            "execution_count": null,
            "metadata": {
                "collapsed": true
            },
            "outputs": [],
            "source": [
                "# SOLUTION BEGINS HERE\n",
                "\n",
                "\n",
                "# SOLUTION ENDS HERE"
            ]
        },
        {
            "cell_type": "markdown",
            "metadata": {
                "nbgrader": {
                    "grade": false,
                    "locked": true,
                    "solution": false
                },
                "editable": false,
                "deletable": false
            },
            "source": [
                "#### b. Summarize the median and mean of ROAS by genders when campign_id == 1178. (4 Points)\n",
                "\n",
                "Hint:  Remember to filter the advertisements where there is no advertising spent. <br>\n",
                "Hint:  Your answer should include all interest_ids  \n",
                "Hint:  ROAS should be rounded to the second decimal. "
            ]
        },
        {
            "cell_type": "code",
            "execution_count": null,
            "metadata": {
                "collapsed": true
            },
            "outputs": [],
            "source": [
                "# SOLUTION BEGINS HERE\n",
                "\n",
                "\n",
                "# SOLUTION ENDS HERE"
            ]
        },
        {
            "cell_type": "markdown",
            "metadata": {
                "nbgrader": {
                    "grade": false,
                    "locked": true,
                    "solution": false
                },
                "editable": false,
                "deletable": false
            },
            "source": [
                "## Instructions for Q3 to Q5:\n",
                "\n",
                "Using the Advertising.csv dataset and the following setup instructions to solve the questions.  "
            ]
        },
        {
            "cell_type": "code",
            "execution_count": null,
            "metadata": {
                "collapsed": true,
                "nbgrader": {
                    "grade": false,
                    "locked": true,
                    "solution": false
                },
                "editable": false,
                "deletable": false
            },
            "outputs": [],
            "source": [
                "library(pROC) \n",
                "library(caret)\n",
                "library(dplyr) \n",
                "library(ggplot2)\n",
                "\n",
                "data <- read.csv(\"..\/resource\/asnlib\/publicdata\/Advertising.csv\", header = TRUE, stringsAsFactors = FALSE)\n",
                "data$Clicked.on.Ad <- as.factor(data$Clicked.on.Ad)\n",
                "head(data)"
            ]
        },
        {
            "cell_type": "markdown",
            "metadata": {
                "nbgrader": {
                    "grade": false,
                    "locked": true,
                    "solution": false
                },
                "editable": false,
                "deletable": false
            },
            "source": [
                "### Q3. (7 Points)"
            ]
        },
        {
            "cell_type": "markdown",
            "metadata": {
                "nbgrader": {
                    "grade": false,
                    "locked": true,
                    "solution": false
                },
                "editable": false,
                "deletable": false
            },
            "source": [
                "#### Make a scatter plot for 'Daily.Internet.Usage' against 'Age'. Separate the datapoints by different shapes and\/or color based on if the datapoint has clicked on the ad or not. (Clicked.on.Ad=0 means no, and Clicked.on.Ad=1 means yes). Based off the general trends in the scatter plot you created, consider a new data point where an individual has a 'Daily.Internet.Usage' less than or equal to 150, and an age of 40. Would this new individual be likely to click the ad or not click the ad?"
            ]
        },
        {
            "cell_type": "code",
            "execution_count": null,
            "metadata": {
                "collapsed": true
            },
            "outputs": [],
            "source": [
                "# SOLUTION BEGINS HERE\n",
                "\n",
                "\n",
                "# SOLUTION ENDS HERE"
            ]
        },
        {
            "cell_type": "markdown",
            "metadata": {
                "nbgrader": {
                    "grade": false,
                    "locked": true,
                    "solution": false
                },
                "editable": false,
                "deletable": false
            },
            "source": [
                "### Q4. (8 Points)"
            ]
        },
        {
            "cell_type": "markdown",
            "metadata": {
                "nbgrader": {
                    "grade": false,
                    "locked": true,
                    "solution": false
                },
                "editable": false,
                "deletable": false
            },
            "source": [
                "#### Create a logistic regression model using the variables 'Daily.Time.Spent.on.Site', 'Age', and 'Area.Income' to predict the variable 'Clicked.on.Ad'. Display the summary output of this logistic regression model. \n",
                "\n",
                "#### Now, test the model on the full original dataset. \n",
                "\n",
                "- Use type = \u201dresponse\u201d to insure we get the predicted probabilities of clicking the advert \n",
                "\n",
                "- Append the predicted probabilities to a new column in the original dataset or simply to a new data frame. The choice is up to you, but ensure you know how to reference this column of probabilities. \n",
                "\n",
                "#### Using a threshold of 80% (0.8), create a new column in the original dataset that represents if the model predicts a click or not for that person. Note this means probabilities greater than or equal to 80% should be treated as a click prediction. Using the caret package, create a confusion matrix for the model predictions and actual clicks. Make sure the positive case in your confusion matrix is set to 1, to get the correct answer and full credit. Print and\/or plot this output.\n",
                "\n",
                "#### Also, idenify how many false negative occurrences are in the dataset. Recall false negative means the instances where the model predicts the case to be false when in reality it is true. For this example, this refers to cases where the ad is clicked but the model predicts that it isn\u2019t."
            ]
        },
        {
            "cell_type": "code",
            "execution_count": null,
            "metadata": {
                "collapsed": true
            },
            "outputs": [],
            "source": [
                "# SOLUTION BEGINS HERE\n",
                "\n",
                "\n",
                "# SOLUTION ENDS HERE"
            ]
        },
        {
            "cell_type": "markdown",
            "metadata": {
                "nbgrader": {
                    "grade": false,
                    "locked": true,
                    "solution": false
                },
                "editable": false,
                "deletable": false
            },
            "source": [
                "### Q5. (8 Points)"
            ]
        },
        {
            "cell_type": "markdown",
            "metadata": {
                "nbgrader": {
                    "grade": false,
                    "locked": true,
                    "solution": false
                },
                "editable": false,
                "deletable": false
            },
            "source": [
                "#### Using the ROCR library, use the performance() function to create and plot a ROC curve of our predictions and true labels. Also, calculate the AUC of the curve."
            ]
        },
        {
            "cell_type": "code",
            "execution_count": null,
            "metadata": {
                "collapsed": true
            },
            "outputs": [],
            "source": [
                "# SOLUTION BEGINS HERE\n",
                "\n",
                "\n",
                "# SOLUTION ENDS HERE"
            ]
        },
        {
            "cell_type": "markdown",
            "metadata": {
                "nbgrader": {
                    "grade": false,
                    "locked": true,
                    "solution": false
                },
                "editable": false,
                "deletable": false
            },
            "source": [
                "### Q6. (7 Points)"
            ]
        },
        {
            "cell_type": "markdown",
            "metadata": {
                "nbgrader": {
                    "grade": false,
                    "locked": true,
                    "solution": false
                },
                "editable": false,
                "deletable": false
            },
            "source": [
                "### Q6. (7 Points) \n",
                "\n",
                "#### Company ABC is spending on Facebook, Pinterst, Twitter, and Online Display for marketing in order to drive increase in sales. In order to see how well their marketing budget is performing, we are task with creating a simple Media Mix Model using linear regression. Please create the following 2 models and explain which model does the best job in explaining the data.\n",
                "\n",
                "**Model 1-** Regress Sales on Company ABC\u2019s Facebook, Pinterest, Twitter, and Online Display spending.\n",
                "\n",
                "**Model 2-** Regress sales on the adstock terms listed below. DO NOT make any changes to the adstock variables. ONLY include the adstock variables listed below in your analysis.\n",
                "\n",
                "#### **AdStock Terms**\n",
                "\n",
                "`data$Facebook.adstock <- as.numeric(filter(x= data$Facebook , filter =0.3 , method =\u201crecursive\u201d))\n",
                "data$Pinterst.adstock <- as.numeric(filter(x= data$Pinterst , filter =0.2 , method =\u201crecursive\u201d))\n",
                "data$Twitter.adstock <- as.numeric(filter(x= data$Twitter , filter =0.7 , method =\u201crecursive\u201d))\n",
                "data$Online_Display.adstock <- as.numeric(filter(x= data$Online_Display , filter =0.5 , method =\u201crecursive\u201d))`"
            ]
        },
        {
            "cell_type": "code",
            "execution_count": null,
            "metadata": {
                "collapsed": true
            },
            "outputs": [],
            "source": [
                "# SOLUTION BEGINS HERE\n",
                "\n",
                "\n",
                "# SOLUTION ENDS HERE"
            ]
        },
        {
            "cell_type": "markdown",
            "metadata": {
                "nbgrader": {
                    "grade": false,
                    "locked": true,
                    "solution": false
                },
                "editable": false,
                "deletable": false
            },
            "source": [
                "### Instructions for Questions Q7-Q8:\n",
                "\n",
                "#### With the rise in popularity of cryptocurrency, XYZ Bank must be creative to retain its current customers. To compete with cryptocurrencies like XRP, XYZ Bank wants to develop incentive programs and target customers with a high risk of churning.\n",
                "\n",
                "**Note:** For more information on how to use business analytics to analyze churn, refer to the Advanced Topics in the Marketing Modules."
            ]
        },
        {
            "cell_type": "markdown",
            "metadata": {
                "nbgrader": {
                    "grade": false,
                    "locked": true,
                    "solution": false
                },
                "editable": false,
                "deletable": false
            },
            "source": [
                "### Q7. (7 Points)"
            ]
        },
        {
            "cell_type": "markdown",
            "metadata": {
                "nbgrader": {
                    "grade": false,
                    "locked": true,
                    "solution": false
                },
                "editable": false,
                "deletable": false
            },
            "source": [
                "#### XYZ Bank wants to identify which segments are statistically significant (95% confidence interval) at determining which customers are more likely to churn. They want to focus on the following segments: CreditScore, Age, Tenure, Balance, NumOfProducts, HasCrCard, IsActiveMember, EstimatedSalary. Using these segments, create a churn model, using logistic regression, to identify which segments are statistically significant at a 95% confidence interval."
            ]
        },
        {
            "cell_type": "code",
            "execution_count": null,
            "metadata": {
                "collapsed": true
            },
            "outputs": [],
            "source": [
                "# SOLUTION BEGINS HERE\n",
                "\n",
                "\n",
                "# SOLUTION ENDS HERE"
            ]
        },
        {
            "cell_type": "markdown",
            "metadata": {
                "nbgrader": {
                    "grade": false,
                    "locked": true,
                    "solution": false
                },
                "editable": false,
                "deletable": false
            },
            "source": [
                "### Q8. (7 Points)"
            ]
        },
        {
            "attachments": {
                "image.png": {
                    "image\/png": "[encoded data removed]"
                }
            },
            "cell_type": "markdown",
            "metadata": {
                "nbgrader": {
                    "grade": false,
                    "locked": true,
                    "solution": false
                },
                "editable": false,
                "deletable": false
            },
            "source": [
                "#### XYZ Bank has a list of 4 customers, and want to identify which customer is the most likely to churn. Please use the model you created for the last question to predict the customer with the highest probability of churning.\n",
                "\n",
                "![image.png](attachment:image.png)"
            ]
        },
        {
            "cell_type": "code",
            "execution_count": 2,
            "metadata": {
                "collapsed": true
            },
            "outputs": [],
            "source": [
                "# SOLUTION BEGINS HERE\n",
                "\n",
                "\n",
                "# SOLUTION ENDS HERE"
            ]
        }
    ],
    "metadata": {
        "kernelspec": {
            "display_name": "R 4.0.2",
            "language": "R",
            "name": "ir-4.0.2"
        },
        "language_info": {
            "codemirror_mode": "r",
            "file_extension": ".r",
            "mimetype": "text\/x-r-source",
            "name": "R",
            "pygments_lexer": "r",
            "version": "4.0.2"
        }
    },
    "nbformat": 4,
    "nbformat_minor": 2
}