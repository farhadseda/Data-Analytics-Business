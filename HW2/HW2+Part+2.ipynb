{
 "cells": [
  {
   "cell_type": "markdown",
   "metadata": {
    "deletable": false,
    "editable": false,
    "nbgrader": {
     "grade": false,
     "locked": true,
     "solution": false
    }
   },
   "source": [
    "# MGT6203 HW2 Part 2"
   ]
  },
  {
   "cell_type": "markdown",
   "metadata": {
    "deletable": false,
    "editable": false,
    "nbgrader": {
     "grade": false,
     "locked": true,
     "solution": false
    }
   },
   "source": [
    "## Instructions:\n",
    "\n",
    "\n",
    "**For Homework 2 Part 2, please use this R notebook in Vocareum to submit your solutions. Vocareum is an educational cloud platform for programming in several languages; it is based on the Jupyter notebook environment. This platform allows us to move homework assignments to the cloud. The advantages are that all of you will be working in the same coding environment AND peer reviewers will be able to run your R code easily. This way we eliminate some issues we might encounter when working on an individual/local basis, such as library installations and Rstudio OS requirements; R notebooks work on mobile platforms and tablets.**\n",
    "\n",
    "**With R notebooks, you will be learning a new way of presenting data analysis reports, that is neat and flexible, where formatted (English) text and (R) code can easily coexist on the same page. Notebooks can be also collaborative when needed. For now, we are asking each of you to do your own work for homework. Think of R notebooks as interactive program-based Google docs or MS-Office 360 docs; these are gradually replacing local files on our computers. **\n",
    "\n",
    "**Many of you are new to the R notebooks and Vocareum platforms. We will provide TA help in Piazza with specific code if you have questions. Here we list some important things to get you started. Please read through them carefully.**\n",
    "\n",
    "\n",
    "<ol>\n",
    "<li>Even though we are moving from your local envrionment to the cloud, **our expectations from your homework will remain the same**. Same goes for the rubrics.</li>\n",
    "\n",
    "<li>Vocareum has its own cloud based file system, the data files you will be using for the assignments will be stored in the cloud with path **\"../resource/asnlib/publicdata/FILENAME.csv\"**. You will be able to import them with the same method as you do in RStudio, simply substitute the path name to the one specified in the instructions. You won't be able to modify these data files.</li>\n",
    "\n",
    "<li>You will be able to find the data files on Canvas/EdX if you would like to explore them offline.</li>\n",
    "\n",
    "<li>**For coding questions, you will be graded on the R code as well as the output** in your submission.</li>\n",
    "\n",
    "<li>**For interpretations or short response questions, please type the answers in the notebook's markdown cells**. To change a code cell to a markdown cell, click on the cell, and in the dropdown menu above, switch the type of the cell block from \"code\" to \"markdown\". **Adding print statements to code cells for short response/interpretation questions is also fine, as long as we can clearly see the output of your response**.</li>\n",
    "\n",
    "<li>You don't need to, but if you would like to learn more about how to format your markdown cells, visit the following site: https://www.earthdatascience.org/courses/intro-to-earth-data-science/file-formats/use-text-files/format-text-with-markdown-jupyter-notebook/. Jupyter notebook also support LaTeX.</li>\n",
    "\n",
    "<li>**Feel free to delete or add as many additional cells as you need**. But please try to keep your notebook clean and keep your solution to a question directly under that question to avoid confusions.</li>\n",
    "\n",
    "<li>You may delete the #SOLUTION BEGINS/ENDS HERE comments from the cell blocks, they are just pointers that indicates where to put you solutions.</li>\n",
    "\n",
    "<li>**When you have finished the assignment, remember to rerun your notebook to check if it runs correctly.** You can do so by going to **Kernel-> Restart & Run All**. You may lose points if your solutions does not run successfully.</li>\n",
    "\n",
    "<li>**Click the \"Submit\" button on the top right corner to turn in your assignment**. Your assignment will enter the next phase for peer review.</li>\n",
    "\n",
    "<li>**You are allowed a total of 2 submissions for this assignment. So make sure that you submit your responses carefully. You will be able to come back and resubmit your assignment as long as it is before the start of the peer review period.</li>\n",
    "\n",
    "<li>**Please remember to finish the peer reviews after you have submitted your assignment.** You are responsible for grading the work of three of your peers thoroughly, and in addherence to the rubrics. And you will be held accountable for peer grading. **There will be a 30% penalty to your grade if you fail to complete one or more peer reviews in proper fashion.**</li>\n",
    "\n",
    "<li>This is the first time we implement this homework system in the MGT6203, feel free to address your questions, concerns, and provide any feedback on Piazza. We will continuously try to improve going forward.</li>\n",
    "\n",
    "<li>Good Luck!</li>\n",
    "\n",
    "</ol>\n",
    "\n"
   ]
  },
  {
   "cell_type": "markdown",
   "metadata": {
    "deletable": false,
    "editable": false,
    "nbgrader": {
     "grade": false,
     "locked": true,
     "solution": false
    }
   },
   "source": [
    "# About Package Installation:\n",
    "\n",
    "Most of the packages (if not all) that you will need to complete this assignment are already installed in this environment. An easy way to check this is to run the command: library(PackageName). If this command runs successfully then the package was already installed and has been successfully attached to the code. If the command gave an error saying the Package was not found then follow the steps below to successfully install the package and attach it to the code: \n",
    "\n",
    "Use *installed.packages()* command to return a table of the packages that are preinstalled in the environment.\n",
    "\n",
    "To attach a preinstalled library in Vocareum, simply use *library(PackageName)*\n",
    "\n",
    "**To install a package that does not come with the provided environment, please use the following syntax:**\n",
    "\n",
    "*install.packages(\"PackageName\", lib=\"../work/\")*\n",
    "\n",
    "**To attach a library you just installed, use the following syntax:**\n",
    "\n",
    "*library(PackageName, lib.loc=\"../work/\")*\n",
    "\n",
    "Make sure the file location is the same as the above code snippets *(\"../work/\")*\n",
    "\n",
    "\n"
   ]
  },
  {
   "cell_type": "markdown",
   "metadata": {
    "deletable": false,
    "editable": false,
    "nbgrader": {
     "grade": false,
     "locked": true,
     "solution": false
    }
   },
   "source": [
    "## Q1. (40 Points Total)\n",
    "\n",
    "### For part A and B:\n",
    "\n",
    "\"PlantGrowth\" is a dataset in R that contains crop weights of a control group and two treatment groups.   \n",
    "\n",
    "*#Code to Get Data*\n",
    "\n",
    "*library(datasets)*\n",
    "\n",
    "*data(PlantGrowth)*\n",
    "\n",
    "\n",
    "**Perform the following operations:  Create two separate datasets: dataset1 contains datapoints of treatment 1 group and control group, and dataset2 contains datapoints of treatment 2 group with the control group.**"
   ]
  },
  {
   "cell_type": "markdown",
   "metadata": {
    "deletable": false,
    "editable": false,
    "nbgrader": {
     "grade": false,
     "locked": true,
     "solution": false
    }
   },
   "source": [
    "### A. Now compute the difference estimator for each of the datasets that you just created. (treatment 1 vs control group for dataset1, and treatment 2 vs control group for dataset2) (7 Points)"
   ]
  },
  {
   "cell_type": "code",
   "execution_count": 1,
   "metadata": {},
   "outputs": [
    {
     "name": "stderr",
     "output_type": "stream",
     "text": [
      "── \u001b[1mAttaching packages\u001b[22m ─────────────────────────────────────── tidyverse 1.3.0 ──\n",
      "\n",
      "\u001b[32m✔\u001b[39m \u001b[34mggplot2\u001b[39m 3.3.2     \u001b[32m✔\u001b[39m \u001b[34mpurrr  \u001b[39m 0.3.4\n",
      "\u001b[32m✔\u001b[39m \u001b[34mtibble \u001b[39m 3.0.3     \u001b[32m✔\u001b[39m \u001b[34mdplyr  \u001b[39m 1.0.2\n",
      "\u001b[32m✔\u001b[39m \u001b[34mtidyr  \u001b[39m 1.1.2     \u001b[32m✔\u001b[39m \u001b[34mstringr\u001b[39m 1.4.0\n",
      "\u001b[32m✔\u001b[39m \u001b[34mreadr  \u001b[39m 1.3.1     \u001b[32m✔\u001b[39m \u001b[34mforcats\u001b[39m 0.5.0\n",
      "\n",
      "── \u001b[1mConflicts\u001b[22m ────────────────────────────────────────── tidyverse_conflicts() ──\n",
      "\u001b[31m✖\u001b[39m \u001b[34mdplyr\u001b[39m::\u001b[32mfilter()\u001b[39m masks \u001b[34mstats\u001b[39m::filter()\n",
      "\u001b[31m✖\u001b[39m \u001b[34mdplyr\u001b[39m::\u001b[32mlag()\u001b[39m    masks \u001b[34mstats\u001b[39m::lag()\n",
      "\n"
     ]
    },
    {
     "data": {
      "text/html": [
       "<table>\n",
       "<caption>A data.frame: 5 × 2</caption>\n",
       "<thead>\n",
       "\t<tr><th></th><th scope=col>weight</th><th scope=col>group</th></tr>\n",
       "\t<tr><th></th><th scope=col>&lt;dbl&gt;</th><th scope=col>&lt;fct&gt;</th></tr>\n",
       "</thead>\n",
       "<tbody>\n",
       "\t<tr><th scope=row>1</th><td>4.17</td><td>ctrl</td></tr>\n",
       "\t<tr><th scope=row>2</th><td>5.58</td><td>ctrl</td></tr>\n",
       "\t<tr><th scope=row>3</th><td>5.18</td><td>ctrl</td></tr>\n",
       "\t<tr><th scope=row>4</th><td>6.11</td><td>ctrl</td></tr>\n",
       "\t<tr><th scope=row>5</th><td>4.50</td><td>ctrl</td></tr>\n",
       "</tbody>\n",
       "</table>\n"
      ],
      "text/latex": [
       "A data.frame: 5 × 2\n",
       "\\begin{tabular}{r|ll}\n",
       "  & weight & group\\\\\n",
       "  & <dbl> & <fct>\\\\\n",
       "\\hline\n",
       "\t1 & 4.17 & ctrl\\\\\n",
       "\t2 & 5.58 & ctrl\\\\\n",
       "\t3 & 5.18 & ctrl\\\\\n",
       "\t4 & 6.11 & ctrl\\\\\n",
       "\t5 & 4.50 & ctrl\\\\\n",
       "\\end{tabular}\n"
      ],
      "text/markdown": [
       "\n",
       "A data.frame: 5 × 2\n",
       "\n",
       "| <!--/--> | weight &lt;dbl&gt; | group &lt;fct&gt; |\n",
       "|---|---|---|\n",
       "| 1 | 4.17 | ctrl |\n",
       "| 2 | 5.58 | ctrl |\n",
       "| 3 | 5.18 | ctrl |\n",
       "| 4 | 6.11 | ctrl |\n",
       "| 5 | 4.50 | ctrl |\n",
       "\n"
      ],
      "text/plain": [
       "  weight group\n",
       "1 4.17   ctrl \n",
       "2 5.58   ctrl \n",
       "3 5.18   ctrl \n",
       "4 6.11   ctrl \n",
       "5 4.50   ctrl "
      ]
     },
     "metadata": {},
     "output_type": "display_data"
    }
   ],
   "source": [
    "#Code to Get Data\n",
    "library(datasets)\n",
    "data(PlantGrowth)\n",
    "# install the required library\n",
    "library(tidyverse) \n",
    "# show the top 5 rows\n",
    "PlantGrowth[1:5,]"
   ]
  },
  {
   "cell_type": "code",
   "execution_count": 2,
   "metadata": {},
   "outputs": [
    {
     "data": {
      "text/plain": [
       "\n",
       "Call:\n",
       "lm(formula = dataset1$weight ~ dataset1$group)\n",
       "\n",
       "Residuals:\n",
       "    Min      1Q  Median      3Q     Max \n",
       "-1.0710 -0.4938  0.0685  0.2462  1.3690 \n",
       "\n",
       "Coefficients:\n",
       "                   Estimate Std. Error t value Pr(>|t|)    \n",
       "(Intercept)          5.0320     0.2202  22.850 9.55e-15 ***\n",
       "dataset1$grouptrt1  -0.3710     0.3114  -1.191    0.249    \n",
       "---\n",
       "Signif. codes:  0 ‘***’ 0.001 ‘**’ 0.01 ‘*’ 0.05 ‘.’ 0.1 ‘ ’ 1\n",
       "\n",
       "Residual standard error: 0.6964 on 18 degrees of freedom\n",
       "Multiple R-squared:  0.07308,\tAdjusted R-squared:  0.02158 \n",
       "F-statistic: 1.419 on 1 and 18 DF,  p-value: 0.249\n"
      ]
     },
     "metadata": {},
     "output_type": "display_data"
    },
    {
     "data": {
      "text/plain": [
       "\n",
       "Call:\n",
       "lm(formula = dataset2$weight ~ dataset2$group)\n",
       "\n",
       "Residuals:\n",
       "   Min     1Q Median     3Q    Max \n",
       "-0.862 -0.410 -0.006  0.280  1.078 \n",
       "\n",
       "Coefficients:\n",
       "                   Estimate Std. Error t value Pr(>|t|)    \n",
       "(Intercept)          5.0320     0.1637  30.742   <2e-16 ***\n",
       "dataset2$grouptrt2   0.4940     0.2315   2.134   0.0469 *  \n",
       "---\n",
       "Signif. codes:  0 ‘***’ 0.001 ‘**’ 0.01 ‘*’ 0.05 ‘.’ 0.1 ‘ ’ 1\n",
       "\n",
       "Residual standard error: 0.5176 on 18 degrees of freedom\n",
       "Multiple R-squared:  0.2019,\tAdjusted R-squared:  0.1576 \n",
       "F-statistic: 4.554 on 1 and 18 DF,  p-value: 0.04685\n"
      ]
     },
     "metadata": {},
     "output_type": "display_data"
    }
   ],
   "source": [
    "# create dataset1\n",
    "dataset1 = filter(PlantGrowth, group == 'ctrl' | group == 'trt1')\n",
    "#create dataset2\n",
    "dataset2 = filter(PlantGrowth, group == 'ctrl' | group == 'trt2')\n",
    "# fit linear regression\n",
    "model1 = lm(dataset1$weight ~ dataset1$group)\n",
    "summary(model1)\n",
    "model2 = lm(dataset2$weight ~ dataset2$group)\n",
    "summary(model2)"
   ]
  },
  {
   "cell_type": "markdown",
   "metadata": {},
   "source": [
    "<span style=\"color:red;\">  based on the results, the difference estimator for trt1 is -0.371 while the difference estimator for trt2 is 0.494.</span>"
   ]
  },
  {
   "cell_type": "markdown",
   "metadata": {
    "deletable": false,
    "editable": false,
    "nbgrader": {
     "grade": false,
     "locked": true,
     "solution": false
    }
   },
   "source": [
    "### B. From the 'PlantGrowth' dataset, what is the average crop weight of the control group, treatment 1 group, and treatment 2 group? Comment on which group has the highest average. (8 Points)"
   ]
  },
  {
   "cell_type": "code",
   "execution_count": 3,
   "metadata": {},
   "outputs": [
    {
     "data": {
      "text/html": [
       "5.032"
      ],
      "text/latex": [
       "5.032"
      ],
      "text/markdown": [
       "5.032"
      ],
      "text/plain": [
       "[1] 5.032"
      ]
     },
     "metadata": {},
     "output_type": "display_data"
    },
    {
     "data": {
      "text/html": [
       "4.661"
      ],
      "text/latex": [
       "4.661"
      ],
      "text/markdown": [
       "4.661"
      ],
      "text/plain": [
       "[1] 4.661"
      ]
     },
     "metadata": {},
     "output_type": "display_data"
    },
    {
     "data": {
      "text/html": [
       "5.526"
      ],
      "text/latex": [
       "5.526"
      ],
      "text/markdown": [
       "5.526"
      ],
      "text/plain": [
       "[1] 5.526"
      ]
     },
     "metadata": {},
     "output_type": "display_data"
    }
   ],
   "source": [
    "mean(PlantGrowth[which(PlantGrowth[,2]=='ctrl'),1])\n",
    "mean(PlantGrowth[which(PlantGrowth[,2]=='trt1'),1])\n",
    "mean(PlantGrowth[which(PlantGrowth[,2]=='trt2'),1])"
   ]
  },
  {
   "cell_type": "markdown",
   "metadata": {},
   "source": [
    "<span style=\"color:red;\">  as can be seen treatment 2 ('trt2') has the highest average and then 'ctrl' and the lowest is 'trt1'.</span>"
   ]
  },
  {
   "cell_type": "markdown",
   "metadata": {
    "deletable": false,
    "editable": false,
    "nbgrader": {
     "grade": false,
     "locked": true,
     "solution": false
    }
   },
   "source": [
    "### For Parts C,D, and E: \n",
    "\n",
    "**Use the Dataset “Min_Wage.csv” and the information below to answer the questions.**\n",
    "\n",
    "The Minimum Wage Law protects the right of workers to get a minimum wage. Consider a scenario where the law of minimum wage was changed just in the state of New Jersey (i.e., law has not been changed in other states).  We want to use the data from company XYZ to observe the difference in hours worked by full time employees in New Jersey before and after the law was changed.  \n",
    "\n",
    "Note: The variable 'State’ indicates the citizenship of the worker, i.e., State = New Jersey ,the worker is from NJ, else worker is not from NJ (is from Philadelphia).    \n",
    "\n",
    "Note: The variable 'fte' contains the number of hours worked by full-time employee.   \n",
    "\n",
    "Note: The variable 'd' indicates whether or not the data was collected before or after the law changed, i.e. d = 1 indicates the data was collected after the law was changed, and d = 0 indicates the data was collected before the law was changed.\n",
    "\n",
    "**Note: The file \"Min_Wage.csv\" can be accessed at the path: (\"../resource/asnlib/publicdata/Min_Wage.csv\").\n",
    "E.g. read.csv(\"../resource/asnlib/publicdata/Min_Wage.csv\")**"
   ]
  },
  {
   "cell_type": "markdown",
   "metadata": {
    "deletable": false,
    "editable": false,
    "nbgrader": {
     "grade": false,
     "locked": true,
     "solution": false
    }
   },
   "source": [
    "### C. In the above problem, classify the workers into four groups and assign the corresponding group with the group title (A,B,C, and D) where the group titles are as follows:   (10 Points)\n",
    "\n",
    "| |Before|After|\n",
    "|------|------|------|\n",
    "|Control|A|C|\n",
    "|Treated|B|D|\n",
    "\n",
    "Note: This is a theoretical question, you just need to identify each group with a short description of what the group is. You don’t need to create a column categorizing the datapoints into groups."
   ]
  },
  {
   "cell_type": "code",
   "execution_count": 4,
   "metadata": {},
   "outputs": [
    {
     "data": {
      "text/html": [
       "<table>\n",
       "<caption>A data.frame: 5 × 14</caption>\n",
       "<thead>\n",
       "\t<tr><th></th><th scope=col>d</th><th scope=col>d_nj</th><th scope=col>fte</th><th scope=col>bk</th><th scope=col>kfc</th><th scope=col>roys</th><th scope=col>wendys</th><th scope=col>co_owned</th><th scope=col>centralj</th><th scope=col>southj</th><th scope=col>pa1</th><th scope=col>pa2</th><th scope=col>demp</th><th scope=col>State</th></tr>\n",
       "\t<tr><th></th><th scope=col>&lt;int&gt;</th><th scope=col>&lt;int&gt;</th><th scope=col>&lt;dbl&gt;</th><th scope=col>&lt;int&gt;</th><th scope=col>&lt;int&gt;</th><th scope=col>&lt;int&gt;</th><th scope=col>&lt;int&gt;</th><th scope=col>&lt;int&gt;</th><th scope=col>&lt;int&gt;</th><th scope=col>&lt;int&gt;</th><th scope=col>&lt;int&gt;</th><th scope=col>&lt;int&gt;</th><th scope=col>&lt;dbl&gt;</th><th scope=col>&lt;chr&gt;</th></tr>\n",
       "</thead>\n",
       "<tbody>\n",
       "\t<tr><th scope=row>1</th><td>0</td><td>0</td><td>15.00</td><td>1</td><td>0</td><td>0</td><td>0</td><td>0</td><td>1</td><td>0</td><td>0</td><td>0</td><td>12.00</td><td>New Jersey</td></tr>\n",
       "\t<tr><th scope=row>2</th><td>0</td><td>0</td><td>15.00</td><td>1</td><td>0</td><td>0</td><td>0</td><td>0</td><td>1</td><td>0</td><td>0</td><td>0</td><td> 6.50</td><td>New Jersey</td></tr>\n",
       "\t<tr><th scope=row>3</th><td>0</td><td>0</td><td>24.00</td><td>0</td><td>0</td><td>1</td><td>0</td><td>0</td><td>1</td><td>0</td><td>0</td><td>0</td><td>-1.00</td><td>New Jersey</td></tr>\n",
       "\t<tr><th scope=row>4</th><td>0</td><td>0</td><td>19.25</td><td>0</td><td>0</td><td>1</td><td>0</td><td>1</td><td>0</td><td>0</td><td>0</td><td>0</td><td> 2.25</td><td>New Jersey</td></tr>\n",
       "\t<tr><th scope=row>5</th><td>0</td><td>0</td><td>21.50</td><td>1</td><td>0</td><td>0</td><td>0</td><td>0</td><td>0</td><td>0</td><td>0</td><td>0</td><td>13.00</td><td>New Jersey</td></tr>\n",
       "</tbody>\n",
       "</table>\n"
      ],
      "text/latex": [
       "A data.frame: 5 × 14\n",
       "\\begin{tabular}{r|llllllllllllll}\n",
       "  & d & d\\_nj & fte & bk & kfc & roys & wendys & co\\_owned & centralj & southj & pa1 & pa2 & demp & State\\\\\n",
       "  & <int> & <int> & <dbl> & <int> & <int> & <int> & <int> & <int> & <int> & <int> & <int> & <int> & <dbl> & <chr>\\\\\n",
       "\\hline\n",
       "\t1 & 0 & 0 & 15.00 & 1 & 0 & 0 & 0 & 0 & 1 & 0 & 0 & 0 & 12.00 & New Jersey\\\\\n",
       "\t2 & 0 & 0 & 15.00 & 1 & 0 & 0 & 0 & 0 & 1 & 0 & 0 & 0 &  6.50 & New Jersey\\\\\n",
       "\t3 & 0 & 0 & 24.00 & 0 & 0 & 1 & 0 & 0 & 1 & 0 & 0 & 0 & -1.00 & New Jersey\\\\\n",
       "\t4 & 0 & 0 & 19.25 & 0 & 0 & 1 & 0 & 1 & 0 & 0 & 0 & 0 &  2.25 & New Jersey\\\\\n",
       "\t5 & 0 & 0 & 21.50 & 1 & 0 & 0 & 0 & 0 & 0 & 0 & 0 & 0 & 13.00 & New Jersey\\\\\n",
       "\\end{tabular}\n"
      ],
      "text/markdown": [
       "\n",
       "A data.frame: 5 × 14\n",
       "\n",
       "| <!--/--> | d &lt;int&gt; | d_nj &lt;int&gt; | fte &lt;dbl&gt; | bk &lt;int&gt; | kfc &lt;int&gt; | roys &lt;int&gt; | wendys &lt;int&gt; | co_owned &lt;int&gt; | centralj &lt;int&gt; | southj &lt;int&gt; | pa1 &lt;int&gt; | pa2 &lt;int&gt; | demp &lt;dbl&gt; | State &lt;chr&gt; |\n",
       "|---|---|---|---|---|---|---|---|---|---|---|---|---|---|---|\n",
       "| 1 | 0 | 0 | 15.00 | 1 | 0 | 0 | 0 | 0 | 1 | 0 | 0 | 0 | 12.00 | New Jersey |\n",
       "| 2 | 0 | 0 | 15.00 | 1 | 0 | 0 | 0 | 0 | 1 | 0 | 0 | 0 |  6.50 | New Jersey |\n",
       "| 3 | 0 | 0 | 24.00 | 0 | 0 | 1 | 0 | 0 | 1 | 0 | 0 | 0 | -1.00 | New Jersey |\n",
       "| 4 | 0 | 0 | 19.25 | 0 | 0 | 1 | 0 | 1 | 0 | 0 | 0 | 0 |  2.25 | New Jersey |\n",
       "| 5 | 0 | 0 | 21.50 | 1 | 0 | 0 | 0 | 0 | 0 | 0 | 0 | 0 | 13.00 | New Jersey |\n",
       "\n"
      ],
      "text/plain": [
       "  d d_nj fte   bk kfc roys wendys co_owned centralj southj pa1 pa2 demp \n",
       "1 0 0    15.00 1  0   0    0      0        1        0      0   0   12.00\n",
       "2 0 0    15.00 1  0   0    0      0        1        0      0   0    6.50\n",
       "3 0 0    24.00 0  0   1    0      0        1        0      0   0   -1.00\n",
       "4 0 0    19.25 0  0   1    0      1        0        0      0   0    2.25\n",
       "5 0 0    21.50 1  0   0    0      0        0        0      0   0   13.00\n",
       "  State     \n",
       "1 New Jersey\n",
       "2 New Jersey\n",
       "3 New Jersey\n",
       "4 New Jersey\n",
       "5 New Jersey"
      ]
     },
     "metadata": {},
     "output_type": "display_data"
    }
   ],
   "source": [
    "# reading the data from a csv file\n",
    "Min_Wage = read.csv('../resource/asnlib/publicdata/Min_Wage.csv')\n",
    "# show the top 5 rows\n",
    "Min_Wage[1:5,]"
   ]
  },
  {
   "cell_type": "code",
   "execution_count": 5,
   "metadata": {},
   "outputs": [
    {
     "name": "stdout",
     "output_type": "stream",
     "text": [
      "[1] \"number of group A, B, C, D, respectively\"\n"
     ]
    },
    {
     "data": {
      "text/html": [
       "75"
      ],
      "text/latex": [
       "75"
      ],
      "text/markdown": [
       "75"
      ],
      "text/plain": [
       "[1] 75"
      ]
     },
     "metadata": {},
     "output_type": "display_data"
    },
    {
     "data": {
      "text/html": [
       "309"
      ],
      "text/latex": [
       "309"
      ],
      "text/markdown": [
       "309"
      ],
      "text/plain": [
       "[1] 309"
      ]
     },
     "metadata": {},
     "output_type": "display_data"
    },
    {
     "data": {
      "text/html": [
       "75"
      ],
      "text/latex": [
       "75"
      ],
      "text/markdown": [
       "75"
      ],
      "text/plain": [
       "[1] 75"
      ]
     },
     "metadata": {},
     "output_type": "display_data"
    },
    {
     "data": {
      "text/html": [
       "309"
      ],
      "text/latex": [
       "309"
      ],
      "text/markdown": [
       "309"
      ],
      "text/plain": [
       "[1] 309"
      ]
     },
     "metadata": {},
     "output_type": "display_data"
    }
   ],
   "source": [
    "A = Min_Wage[which(Min_Wage[,1]==0 & Min_Wage[,14]=='Philadelphia'),]\n",
    "B = Min_Wage[which(Min_Wage[,1]==0 & Min_Wage[,14]=='New Jersey'),]\n",
    "C = Min_Wage[which(Min_Wage[,1]==1 & Min_Wage[,14]=='Philadelphia'),]\n",
    "D = Min_Wage[which(Min_Wage[,1]==1 & Min_Wage[,14]=='New Jersey'),]\n",
    "print('number of group A, B, C, D, respectively')\n",
    "nrow(A)\n",
    "nrow(B)\n",
    "nrow(C)\n",
    "nrow(D)"
   ]
  },
  {
   "cell_type": "markdown",
   "metadata": {
    "deletable": false,
    "editable": false,
    "nbgrader": {
     "grade": false,
     "locked": true,
     "solution": false
    }
   },
   "source": [
    "### D. To estimate the difference in difference we need four averages for the above categorized groups i.e., control group before change, control group after change, treatment group before change and treatment group after change. Compute the following: (9 Points)"
   ]
  },
  {
   "cell_type": "markdown",
   "metadata": {
    "deletable": false,
    "editable": false,
    "nbgrader": {
     "grade": false,
     "locked": true,
     "solution": false
    }
   },
   "source": [
    "#### i. Calculate the mean of the 'fte' variable for each of the four groups in R and print them. (5 Points)"
   ]
  },
  {
   "cell_type": "code",
   "execution_count": 6,
   "metadata": {},
   "outputs": [
    {
     "data": {
      "text/html": [
       "23.38"
      ],
      "text/latex": [
       "23.38"
      ],
      "text/markdown": [
       "23.38"
      ],
      "text/plain": [
       "[1] 23.38"
      ]
     },
     "metadata": {},
     "output_type": "display_data"
    },
    {
     "data": {
      "text/html": [
       "20.4305825242718"
      ],
      "text/latex": [
       "20.4305825242718"
      ],
      "text/markdown": [
       "20.4305825242718"
      ],
      "text/plain": [
       "[1] 20.43058"
      ]
     },
     "metadata": {},
     "output_type": "display_data"
    },
    {
     "data": {
      "text/html": [
       "21.0966666666667"
      ],
      "text/latex": [
       "21.0966666666667"
      ],
      "text/markdown": [
       "21.0966666666667"
      ],
      "text/plain": [
       "[1] 21.09667"
      ]
     },
     "metadata": {},
     "output_type": "display_data"
    },
    {
     "data": {
      "text/html": [
       "20.8972491909385"
      ],
      "text/latex": [
       "20.8972491909385"
      ],
      "text/markdown": [
       "20.8972491909385"
      ],
      "text/plain": [
       "[1] 20.89725"
      ]
     },
     "metadata": {},
     "output_type": "display_data"
    }
   ],
   "source": [
    "mean(A[,3])\n",
    "mean(B[,3])\n",
    "mean(C[,3])\n",
    "mean(D[,3])"
   ]
  },
  {
   "cell_type": "markdown",
   "metadata": {},
   "source": [
    "<span style=\"color:red;\">  Mean of fte for group A = 23.38.</span>\n",
    "<span style=\"color:red;\">  Mean of fte for group B = 20.43058.</span>\n",
    "<span style=\"color:red;\">  Mean of fte for group C = 21.0966.</span>\n",
    "<span style=\"color:red;\">  Mean of fte for group D = 20.8972.</span>"
   ]
  },
  {
   "cell_type": "markdown",
   "metadata": {
    "deletable": false,
    "editable": false,
    "nbgrader": {
     "grade": false,
     "locked": true,
     "solution": false
    }
   },
   "source": [
    "#### ii. Using these averages, estimate the value of the difference in difference. (4 Points)"
   ]
  },
  {
   "cell_type": "code",
   "execution_count": 7,
   "metadata": {},
   "outputs": [
    {
     "data": {
      "text/html": [
       "2.75"
      ],
      "text/latex": [
       "2.75"
      ],
      "text/markdown": [
       "2.75"
      ],
      "text/plain": [
       "[1] 2.75"
      ]
     },
     "metadata": {},
     "output_type": "display_data"
    }
   ],
   "source": [
    "Diff_Diff = (mean(D[,3])-mean(B[,3]))-(mean(C[,3])-mean(A[,3]))\n",
    "Diff_Diff"
   ]
  },
  {
   "cell_type": "markdown",
   "metadata": {
    "deletable": false,
    "editable": false,
    "nbgrader": {
     "grade": false,
     "locked": true,
     "solution": false
    }
   },
   "source": [
    "### E.  Estimate the DID (Difference in Difference) using regression model.  (6 Points)"
   ]
  },
  {
   "cell_type": "code",
   "execution_count": 8,
   "metadata": {},
   "outputs": [
    {
     "data": {
      "text/plain": [
       "\n",
       "Call:\n",
       "lm(formula = fte ~ treated + d + treated * d, data = Min_Wage)\n",
       "\n",
       "Residuals:\n",
       "    Min      1Q  Median      3Q     Max \n",
       "-21.097  -6.472  -0.931   4.603  64.569 \n",
       "\n",
       "Coefficients:\n",
       "            Estimate Std. Error t value Pr(>|t|)    \n",
       "(Intercept)   23.380      1.098  21.288   <2e-16 ***\n",
       "treated       -2.949      1.224  -2.409   0.0162 *  \n",
       "d             -2.283      1.553  -1.470   0.1419    \n",
       "treated:d      2.750      1.731   1.588   0.1126    \n",
       "---\n",
       "Signif. codes:  0 ‘***’ 0.001 ‘**’ 0.01 ‘*’ 0.05 ‘.’ 0.1 ‘ ’ 1\n",
       "\n",
       "Residual standard error: 9.511 on 764 degrees of freedom\n",
       "Multiple R-squared:  0.007587,\tAdjusted R-squared:  0.00369 \n",
       "F-statistic: 1.947 on 3 and 764 DF,  p-value: 0.1206\n"
      ]
     },
     "metadata": {},
     "output_type": "display_data"
    }
   ],
   "source": [
    "Min_Wage$treated = 0\n",
    "Min_Wage$treated[which(Min_Wage[,14]=='New Jersey')]=1\n",
    "model3 = lm(fte ~treated+ d+treated*d, data = Min_Wage)\n",
    "summary(model3)\n"
   ]
  },
  {
   "cell_type": "markdown",
   "metadata": {},
   "source": [
    "<span style=\"color:red;\">  Since the coefficient of interaction term (treated*d) indicates difference in difference therefore diff in diff is 2.75.</span>"
   ]
  },
  {
   "cell_type": "markdown",
   "metadata": {
    "deletable": false,
    "editable": false,
    "nbgrader": {
     "grade": false,
     "locked": true,
     "solution": false
    }
   },
   "source": [
    "## Q2.  (20 Points Total)\n",
    "\n",
    "For the following questions, use the dataset Berkshire.csv with the following variables:  \n",
    "\n",
    "||Column Name |Description|\n",
    "|------|------|------|\n",
    "|1|Date|Calendar Date|\n",
    "|2|BRKret|Berkshire Hathaway’s monthly return|\n",
    "|3|MKT|the return on the aggregate stock market|\n",
    "|4|RF|the risk free rate of return|\n",
    "\n",
    "You may/may not need the following dependencies:  \n",
    "\n",
    "“lubridate” package which is already installed in R in Vocareum.\n",
    "\n",
    "“PerformanceAnalytics” package which can be installed as indicated at the beginning of this homework.\n",
    "\n",
    "\n",
    "**Note: The file \"Berkshire.csv\" can be accessed at the path: (\"../resource/asnlib/publicdata/Berkshire.csv\").\n",
    "E.g. read.csv(\"../resource/asnlib/publicdata/Berkshire.csv\")**\n"
   ]
  },
  {
   "cell_type": "code",
   "execution_count": 9,
   "metadata": {},
   "outputs": [
    {
     "name": "stderr",
     "output_type": "stream",
     "text": [
      "Updating HTML index of packages in '.Library'\n",
      "\n",
      "Warning message in file.create(f.tg):\n",
      "“cannot create file '/opt/R/4.0.2/lib/R/doc/html/packages.html', reason 'Permission denied'”\n",
      "Warning message in make.packages.html(.Library):\n",
      "“cannot update HTML package index”\n",
      "\n",
      "Attaching package: ‘lubridate’\n",
      "\n",
      "\n",
      "The following objects are masked from ‘package:base’:\n",
      "\n",
      "    date, intersect, setdiff, union\n",
      "\n",
      "\n",
      "Loading required package: zoo\n",
      "\n",
      "\n",
      "Attaching package: ‘zoo’\n",
      "\n",
      "\n",
      "The following objects are masked from ‘package:base’:\n",
      "\n",
      "    as.Date, as.Date.numeric\n",
      "\n",
      "\n",
      "\n",
      "Attaching package: ‘xts’\n",
      "\n",
      "\n",
      "The following objects are masked from ‘package:dplyr’:\n",
      "\n",
      "    first, last\n",
      "\n",
      "\n",
      "\n",
      "Attaching package: ‘PerformanceAnalytics’\n",
      "\n",
      "\n",
      "The following object is masked from ‘package:graphics’:\n",
      "\n",
      "    legend\n",
      "\n",
      "\n"
     ]
    }
   ],
   "source": [
    "install.packages(\"PerformanceAnalytics\")\n",
    "library(lubridate) \n",
    "library(xts) \n",
    "library(PerformanceAnalytics)"
   ]
  },
  {
   "cell_type": "code",
   "execution_count": 10,
   "metadata": {},
   "outputs": [
    {
     "data": {
      "text/html": [
       "<table>\n",
       "<caption>A data.frame: 5 × 4</caption>\n",
       "<thead>\n",
       "\t<tr><th></th><th scope=col>Date</th><th scope=col>BrkRet</th><th scope=col>MKT</th><th scope=col>RF</th></tr>\n",
       "\t<tr><th></th><th scope=col>&lt;date&gt;</th><th scope=col>&lt;dbl&gt;</th><th scope=col>&lt;dbl&gt;</th><th scope=col>&lt;dbl&gt;</th></tr>\n",
       "</thead>\n",
       "<tbody>\n",
       "\t<tr><th scope=row>1</th><td>1976-11-30</td><td>0.1544</td><td> 0.0076</td><td>0.0040</td></tr>\n",
       "\t<tr><th scope=row>2</th><td>1976-12-31</td><td>0.1465</td><td> 0.0605</td><td>0.0040</td></tr>\n",
       "\t<tr><th scope=row>3</th><td>1977-01-31</td><td>0.0000</td><td>-0.0369</td><td>0.0036</td></tr>\n",
       "\t<tr><th scope=row>4</th><td>1977-02-28</td><td>0.0000</td><td>-0.0160</td><td>0.0035</td></tr>\n",
       "\t<tr><th scope=row>5</th><td>1977-03-31</td><td>0.0778</td><td>-0.0099</td><td>0.0038</td></tr>\n",
       "</tbody>\n",
       "</table>\n"
      ],
      "text/latex": [
       "A data.frame: 5 × 4\n",
       "\\begin{tabular}{r|llll}\n",
       "  & Date & BrkRet & MKT & RF\\\\\n",
       "  & <date> & <dbl> & <dbl> & <dbl>\\\\\n",
       "\\hline\n",
       "\t1 & 1976-11-30 & 0.1544 &  0.0076 & 0.0040\\\\\n",
       "\t2 & 1976-12-31 & 0.1465 &  0.0605 & 0.0040\\\\\n",
       "\t3 & 1977-01-31 & 0.0000 & -0.0369 & 0.0036\\\\\n",
       "\t4 & 1977-02-28 & 0.0000 & -0.0160 & 0.0035\\\\\n",
       "\t5 & 1977-03-31 & 0.0778 & -0.0099 & 0.0038\\\\\n",
       "\\end{tabular}\n"
      ],
      "text/markdown": [
       "\n",
       "A data.frame: 5 × 4\n",
       "\n",
       "| <!--/--> | Date &lt;date&gt; | BrkRet &lt;dbl&gt; | MKT &lt;dbl&gt; | RF &lt;dbl&gt; |\n",
       "|---|---|---|---|---|\n",
       "| 1 | 1976-11-30 | 0.1544 |  0.0076 | 0.0040 |\n",
       "| 2 | 1976-12-31 | 0.1465 |  0.0605 | 0.0040 |\n",
       "| 3 | 1977-01-31 | 0.0000 | -0.0369 | 0.0036 |\n",
       "| 4 | 1977-02-28 | 0.0000 | -0.0160 | 0.0035 |\n",
       "| 5 | 1977-03-31 | 0.0778 | -0.0099 | 0.0038 |\n",
       "\n"
      ],
      "text/plain": [
       "  Date       BrkRet MKT     RF    \n",
       "1 1976-11-30 0.1544  0.0076 0.0040\n",
       "2 1976-12-31 0.1465  0.0605 0.0040\n",
       "3 1977-01-31 0.0000 -0.0369 0.0036\n",
       "4 1977-02-28 0.0000 -0.0160 0.0035\n",
       "5 1977-03-31 0.0778 -0.0099 0.0038"
      ]
     },
     "metadata": {},
     "output_type": "display_data"
    }
   ],
   "source": [
    "Berkshire = read.csv('../resource/asnlib/publicdata/Berkshire.csv')\n",
    "\n",
    "#converting dates to standard YYYY-MM-DD format\n",
    "Berkshire$Date <- mdy(Berkshire$Date)\n",
    "#Sorting data by dates\n",
    "Berkshire<- Berkshire[order(Berkshire$Date),]\n",
    "\n",
    "Berkshire[1:5,]"
   ]
  },
  {
   "cell_type": "markdown",
   "metadata": {
    "deletable": false,
    "editable": false,
    "nbgrader": {
     "grade": false,
     "locked": true,
     "solution": false
    }
   },
   "source": [
    "### A. Find the standard deviation of Berkshire Hathaway over the sample period.  Round the answer to the nearest hundredth (i.e. 12.34%). (4 Points)"
   ]
  },
  {
   "cell_type": "code",
   "execution_count": 11,
   "metadata": {},
   "outputs": [
    {
     "data": {
      "text/html": [
       "6.75"
      ],
      "text/latex": [
       "6.75"
      ],
      "text/markdown": [
       "6.75"
      ],
      "text/plain": [
       "[1] 6.75"
      ]
     },
     "metadata": {},
     "output_type": "display_data"
    }
   ],
   "source": [
    "round(sd(Berkshire$BrkRet)*100,2)"
   ]
  },
  {
   "cell_type": "markdown",
   "metadata": {},
   "source": [
    "<span style=\"color:red;\">  6.75%.</span>"
   ]
  },
  {
   "cell_type": "markdown",
   "metadata": {
    "deletable": false,
    "editable": false,
    "nbgrader": {
     "grade": false,
     "locked": true,
     "solution": false
    }
   },
   "source": [
    "### B. Find Berkshire Hathaway’s average return over the sample period.  Use  arithmetic average and round the answer to the nearest hundredth (i.e. 12.34%). (4 Points)\n",
    "    \n",
    "    "
   ]
  },
  {
   "cell_type": "code",
   "execution_count": 12,
   "metadata": {},
   "outputs": [
    {
     "data": {
      "text/html": [
       "1.9"
      ],
      "text/latex": [
       "1.9"
      ],
      "text/markdown": [
       "1.9"
      ],
      "text/plain": [
       "[1] 1.9"
      ]
     },
     "metadata": {},
     "output_type": "display_data"
    }
   ],
   "source": [
    "round(mean(Berkshire$BrkRet)*100,2)"
   ]
  },
  {
   "cell_type": "markdown",
   "metadata": {},
   "source": [
    "<span style=\"color:red;\">  1.90%.</span>"
   ]
  },
  {
   "cell_type": "markdown",
   "metadata": {
    "deletable": false,
    "editable": false,
    "nbgrader": {
     "grade": false,
     "locked": true,
     "solution": false
    }
   },
   "source": [
    "### C. By what percentage per month on average has Berkshire Hathaway outperformed the market?  Please calculate over the sample period and round the answer to the nearest hundredth (i.e. 12.34%). (4 Points)"
   ]
  },
  {
   "cell_type": "code",
   "execution_count": 13,
   "metadata": {},
   "outputs": [
    {
     "data": {
      "text/html": [
       "0.88"
      ],
      "text/latex": [
       "0.88"
      ],
      "text/markdown": [
       "0.88"
      ],
      "text/plain": [
       "[1] 0.88"
      ]
     },
     "metadata": {},
     "output_type": "display_data"
    }
   ],
   "source": [
    "round(mean(Berkshire$BrkRet)*100,2) - round(mean(Berkshire$MKT)*100,2)"
   ]
  },
  {
   "cell_type": "markdown",
   "metadata": {},
   "source": [
    "<span style=\"color:red;\">  0.88%.</span>"
   ]
  },
  {
   "cell_type": "markdown",
   "metadata": {
    "deletable": false,
    "editable": false,
    "nbgrader": {
     "grade": false,
     "locked": true,
     "solution": false
    }
   },
   "source": [
    "### D. If $10,000 was invested in Berkshire Hathaway at the start of the sample period, how much would the investment have grown to by the end of the sample period? (4 Points)"
   ]
  },
  {
   "cell_type": "code",
   "execution_count": 14,
   "metadata": {},
   "outputs": [
    {
     "data": {
      "text/html": [
       "<table>\n",
       "<caption>A matrix: 1 × 1 of type dbl</caption>\n",
       "<thead>\n",
       "\t<tr><th></th><th scope=col>BrkRet</th></tr>\n",
       "</thead>\n",
       "<tbody>\n",
       "\t<tr><th scope=row>Cumulative Return</th><td>41449896</td></tr>\n",
       "</tbody>\n",
       "</table>\n"
      ],
      "text/latex": [
       "A matrix: 1 × 1 of type dbl\n",
       "\\begin{tabular}{r|l}\n",
       "  & BrkRet\\\\\n",
       "\\hline\n",
       "\tCumulative Return & 41449896\\\\\n",
       "\\end{tabular}\n"
      ],
      "text/markdown": [
       "\n",
       "A matrix: 1 × 1 of type dbl\n",
       "\n",
       "| <!--/--> | BrkRet |\n",
       "|---|---|\n",
       "| Cumulative Return | 41449896 |\n",
       "\n"
      ],
      "text/plain": [
       "                  BrkRet  \n",
       "Cumulative Return 41449896"
      ]
     },
     "metadata": {},
     "output_type": "display_data"
    }
   ],
   "source": [
    "#create an xts dataset\n",
    "All.dat <- xts(Berkshire[,-1], order.by = Berkshire$Date) \n",
    "#Calculate Compound Return for the fund across all the data\n",
    "cum_ret = Return.cumulative(All.dat$BrkRet,geometric = TRUE)\n",
    "grown = (1+cum_ret)*10000\n",
    "grown"
   ]
  },
  {
   "cell_type": "markdown",
   "metadata": {},
   "source": [
    "<span style=\"color:red;\">  After the end of the sample period 10,000 UDS would tunn to $41,449,896 USD.</span>"
   ]
  },
  {
   "cell_type": "markdown",
   "metadata": {
    "deletable": false,
    "editable": false,
    "nbgrader": {
     "grade": false,
     "locked": true,
     "solution": false
    }
   },
   "source": [
    "### E. Plot the cumulative return of Berkshire and Market across all years and include a legend. Describe your observation. (4 Points)"
   ]
  },
  {
   "cell_type": "code",
   "execution_count": 15,
   "metadata": {},
   "outputs": [
    {
     "data": {
      "image/png": "[encoded data removed]",
      "text/plain": [
       "plot without title"
      ]
     },
     "metadata": {
      "image/png": {
       "height": 420,
       "width": 420
      }
     },
     "output_type": "display_data"
    },
    {
     "data": {
      "text/html": [
       "<table>\n",
       "<caption>A data.frame: 5 × 7</caption>\n",
       "<thead>\n",
       "\t<tr><th scope=col>From</th><th scope=col>Trough</th><th scope=col>To</th><th scope=col>Depth</th><th scope=col>Length</th><th scope=col>To Trough</th><th scope=col>Recovery</th></tr>\n",
       "\t<tr><th scope=col>&lt;date&gt;</th><th scope=col>&lt;date&gt;</th><th scope=col>&lt;date&gt;</th><th scope=col>&lt;dbl&gt;</th><th scope=col>&lt;dbl&gt;</th><th scope=col>&lt;dbl&gt;</th><th scope=col>&lt;dbl&gt;</th></tr>\n",
       "</thead>\n",
       "<tbody>\n",
       "\t<tr><td>2008-01-31</td><td>2009-02-28</td><td>2013-01-31</td><td>-0.4449</td><td>61</td><td>14</td><td>47</td></tr>\n",
       "\t<tr><td>1998-07-31</td><td>2000-02-29</td><td>2003-11-30</td><td>-0.4382</td><td>65</td><td>20</td><td>45</td></tr>\n",
       "\t<tr><td>1990-01-31</td><td>1990-09-30</td><td>1991-05-31</td><td>-0.3227</td><td>17</td><td> 9</td><td> 8</td></tr>\n",
       "\t<tr><td>1987-10-31</td><td>1987-11-30</td><td>1988-07-31</td><td>-0.3128</td><td>10</td><td> 2</td><td> 8</td></tr>\n",
       "\t<tr><td>1979-09-30</td><td>1980-03-31</td><td>1980-08-31</td><td>-0.2394</td><td>12</td><td> 7</td><td> 5</td></tr>\n",
       "</tbody>\n",
       "</table>\n"
      ],
      "text/latex": [
       "A data.frame: 5 × 7\n",
       "\\begin{tabular}{lllllll}\n",
       " From & Trough & To & Depth & Length & To Trough & Recovery\\\\\n",
       " <date> & <date> & <date> & <dbl> & <dbl> & <dbl> & <dbl>\\\\\n",
       "\\hline\n",
       "\t 2008-01-31 & 2009-02-28 & 2013-01-31 & -0.4449 & 61 & 14 & 47\\\\\n",
       "\t 1998-07-31 & 2000-02-29 & 2003-11-30 & -0.4382 & 65 & 20 & 45\\\\\n",
       "\t 1990-01-31 & 1990-09-30 & 1991-05-31 & -0.3227 & 17 &  9 &  8\\\\\n",
       "\t 1987-10-31 & 1987-11-30 & 1988-07-31 & -0.3128 & 10 &  2 &  8\\\\\n",
       "\t 1979-09-30 & 1980-03-31 & 1980-08-31 & -0.2394 & 12 &  7 &  5\\\\\n",
       "\\end{tabular}\n"
      ],
      "text/markdown": [
       "\n",
       "A data.frame: 5 × 7\n",
       "\n",
       "| From &lt;date&gt; | Trough &lt;date&gt; | To &lt;date&gt; | Depth &lt;dbl&gt; | Length &lt;dbl&gt; | To Trough &lt;dbl&gt; | Recovery &lt;dbl&gt; |\n",
       "|---|---|---|---|---|---|---|\n",
       "| 2008-01-31 | 2009-02-28 | 2013-01-31 | -0.4449 | 61 | 14 | 47 |\n",
       "| 1998-07-31 | 2000-02-29 | 2003-11-30 | -0.4382 | 65 | 20 | 45 |\n",
       "| 1990-01-31 | 1990-09-30 | 1991-05-31 | -0.3227 | 17 |  9 |  8 |\n",
       "| 1987-10-31 | 1987-11-30 | 1988-07-31 | -0.3128 | 10 |  2 |  8 |\n",
       "| 1979-09-30 | 1980-03-31 | 1980-08-31 | -0.2394 | 12 |  7 |  5 |\n",
       "\n"
      ],
      "text/plain": [
       "  From       Trough     To         Depth   Length To Trough Recovery\n",
       "1 2008-01-31 2009-02-28 2013-01-31 -0.4449 61     14        47      \n",
       "2 1998-07-31 2000-02-29 2003-11-30 -0.4382 65     20        45      \n",
       "3 1990-01-31 1990-09-30 1991-05-31 -0.3227 17      9         8      \n",
       "4 1987-10-31 1987-11-30 1988-07-31 -0.3128 10      2         8      \n",
       "5 1979-09-30 1980-03-31 1980-08-31 -0.2394 12      7         5      "
      ]
     },
     "metadata": {},
     "output_type": "display_data"
    },
    {
     "data": {
      "image/png": "[encoded data removed]",
      "text/plain": [
       "plot without title"
      ]
     },
     "metadata": {
      "image/png": {
       "height": 420,
       "width": 420
      }
     },
     "output_type": "display_data"
    }
   ],
   "source": [
    "#Check chart in Plots Tab on bottom right in R Studio\n",
    "chart.CumReturns(All.dat[,1:2],wealth.index = FALSE, geometric = TRUE,legend = \"top\",main = 'Plot of the cumulative return of Berkshire and Market across all years')\n",
    "chart.Drawdown(All.dat$BrkRet) \n",
    "table.Drawdowns(All.dat$BrkRet,top = 5,digits = 4)"
   ]
  },
  {
   "cell_type": "markdown",
   "metadata": {},
   "source": [
    "<span style=\"color:red;\">  As can be seen based on the first plot, the Berkshire performance is much much better compared to the market from 1976 to 2018 in the sample period, for example if you have invested 10,000 USD in 1976 with the Berkshire strategy you could get back $41,449,896 USD while with the same amount of investment in the overal market we could get back less than 1M USD. The second plot also shows different drawdown during the sample period for Berkshir strategy.</span>"
   ]
  },
  {
   "cell_type": "code",
   "execution_count": null,
   "metadata": {
    "collapsed": true
   },
   "outputs": [],
   "source": []
  }
 ],
 "metadata": {
  "kernelspec": {
   "display_name": "R",
   "language": "R",
   "name": "ir"
  },
  "language_info": {
   "codemirror_mode": "r",
   "file_extension": ".r",
   "mimetype": "text/x-r-source",
   "name": "R",
   "pygments_lexer": "r",
   "version": "4.0.2"
  }
 },
 "nbformat": 4,
 "nbformat_minor": 2
}
